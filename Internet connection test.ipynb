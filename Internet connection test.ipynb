{
 "cells": [
  {
   "cell_type": "code",
   "execution_count": null,
   "metadata": {},
   "outputs": [],
   "source": [
    "#Internet connection test\n",
    "\n",
    "import requests\n",
    "from requests.exceptions import ConnectionError\n",
    "\n",
    "def testing_internet_connection():\n",
    "    test_url = 'https://www.python.org/'\n",
    "    print(f'Trying to open {test_url} to test the internet connection status.')\n",
    "\n",
    "    try:\n",
    "        print(test_url)\n",
    "        link = requests.get(url, timeout = 10)\n",
    "        link.text\n",
    "        link.status_code\n",
    "        print(f'Connection to {test_url} was successful.')\n",
    "        return True\n",
    "    \n",
    "    except ConnectionError as error:\n",
    "        requests.ConnectionError\n",
    "        print(f'Failed to open {test_url}.')\n",
    "        return False\n",
    "    \n",
    "    except:\n",
    "        print(f'Failed to connect due to unparsed reason.')\n",
    "        return False\n",
    "\n",
    "testing_internet_connection()\n"
   ]
  },
  {
   "cell_type": "code",
   "execution_count": null,
   "metadata": {},
   "outputs": [],
   "source": [
    "\n"
   ]
  },
  {
   "cell_type": "code",
   "execution_count": null,
   "metadata": {},
   "outputs": [],
   "source": []
  }
 ],
 "metadata": {
  "kernelspec": {
   "display_name": "Python 3",
   "language": "python",
   "name": "python3"
  },
  "language_info": {
   "codemirror_mode": {
    "name": "ipython",
    "version": 3
   },
   "file_extension": ".py",
   "mimetype": "text/x-python",
   "name": "python",
   "nbconvert_exporter": "python",
   "pygments_lexer": "ipython3",
   "version": "3.7.6"
  }
 },
 "nbformat": 4,
 "nbformat_minor": 4
}
